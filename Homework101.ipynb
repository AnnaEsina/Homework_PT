{
 "cells": [
  {
   "cell_type": "markdown",
   "metadata": {},
   "source": [
    "### Задание 1 "
   ]
  },
  {
   "cell_type": "code",
   "execution_count": null,
   "metadata": {},
   "outputs": [],
   "source": [
    "import pandas as pd\n"
   ]
  },
  {
   "cell_type": "code",
   "execution_count": 12,
   "metadata": {},
   "outputs": [
    {
     "data": {
      "text/html": [
       "<div>\n",
       "<style scoped>\n",
       "    .dataframe tbody tr th:only-of-type {\n",
       "        vertical-align: middle;\n",
       "    }\n",
       "\n",
       "    .dataframe tbody tr th {\n",
       "        vertical-align: top;\n",
       "    }\n",
       "\n",
       "    .dataframe thead th {\n",
       "        text-align: right;\n",
       "    }\n",
       "</style>\n",
       "<table border=\"1\" class=\"dataframe\">\n",
       "  <thead>\n",
       "    <tr style=\"text-align: right;\">\n",
       "      <th></th>\n",
       "      <th>userId</th>\n",
       "      <th>movieId</th>\n",
       "      <th>rating</th>\n",
       "      <th>timestamp</th>\n",
       "    </tr>\n",
       "  </thead>\n",
       "  <tbody>\n",
       "    <tr>\n",
       "      <th>0</th>\n",
       "      <td>1</td>\n",
       "      <td>296</td>\n",
       "      <td>5.0</td>\n",
       "      <td>1147880044</td>\n",
       "    </tr>\n",
       "    <tr>\n",
       "      <th>1</th>\n",
       "      <td>1</td>\n",
       "      <td>306</td>\n",
       "      <td>3.5</td>\n",
       "      <td>1147868817</td>\n",
       "    </tr>\n",
       "    <tr>\n",
       "      <th>2</th>\n",
       "      <td>1</td>\n",
       "      <td>307</td>\n",
       "      <td>5.0</td>\n",
       "      <td>1147868828</td>\n",
       "    </tr>\n",
       "    <tr>\n",
       "      <th>3</th>\n",
       "      <td>1</td>\n",
       "      <td>665</td>\n",
       "      <td>5.0</td>\n",
       "      <td>1147878820</td>\n",
       "    </tr>\n",
       "    <tr>\n",
       "      <th>4</th>\n",
       "      <td>1</td>\n",
       "      <td>899</td>\n",
       "      <td>3.5</td>\n",
       "      <td>1147868510</td>\n",
       "    </tr>\n",
       "  </tbody>\n",
       "</table>\n",
       "</div>"
      ],
      "text/plain": [
       "   userId  movieId  rating   timestamp\n",
       "0       1      296     5.0  1147880044\n",
       "1       1      306     3.5  1147868817\n",
       "2       1      307     5.0  1147868828\n",
       "3       1      665     5.0  1147878820\n",
       "4       1      899     3.5  1147868510"
      ]
     },
     "execution_count": 12,
     "metadata": {},
     "output_type": "execute_result"
    }
   ],
   "source": [
    "data = pd.read_csv('ratings.csv')\n",
    "data.head()"
   ]
  },
  {
   "cell_type": "code",
   "execution_count": 11,
   "metadata": {},
   "outputs": [
    {
     "data": {
      "text/plain": [
       "movieId  rating\n",
       "318      5.0       39553\n",
       "dtype: int64"
      ]
     },
     "execution_count": 11,
     "metadata": {},
     "output_type": "execute_result"
    }
   ],
   "source": [
    "data[data.rating == 5.0].filter(items = ['movieId', 'rating']).value_counts().head(1)"
   ]
  },
  {
   "cell_type": "markdown",
   "metadata": {},
   "source": [
    "### Задание 2"
   ]
  },
  {
   "cell_type": "code",
   "execution_count": 14,
   "metadata": {},
   "outputs": [
    {
     "data": {
      "text/html": [
       "<div>\n",
       "<style scoped>\n",
       "    .dataframe tbody tr th:only-of-type {\n",
       "        vertical-align: middle;\n",
       "    }\n",
       "\n",
       "    .dataframe tbody tr th {\n",
       "        vertical-align: top;\n",
       "    }\n",
       "\n",
       "    .dataframe thead th {\n",
       "        text-align: right;\n",
       "    }\n",
       "</style>\n",
       "<table border=\"1\" class=\"dataframe\">\n",
       "  <thead>\n",
       "    <tr style=\"text-align: right;\">\n",
       "      <th></th>\n",
       "      <th>country</th>\n",
       "      <th>year</th>\n",
       "      <th>quantity</th>\n",
       "      <th>category</th>\n",
       "    </tr>\n",
       "  </thead>\n",
       "  <tbody>\n",
       "    <tr>\n",
       "      <th>0</th>\n",
       "      <td>Austria</td>\n",
       "      <td>1996</td>\n",
       "      <td>5.0</td>\n",
       "      <td>1</td>\n",
       "    </tr>\n",
       "    <tr>\n",
       "      <th>1</th>\n",
       "      <td>Austria</td>\n",
       "      <td>1995</td>\n",
       "      <td>17.0</td>\n",
       "      <td>1</td>\n",
       "    </tr>\n",
       "    <tr>\n",
       "      <th>2</th>\n",
       "      <td>Belgium</td>\n",
       "      <td>2014</td>\n",
       "      <td>0.0</td>\n",
       "      <td>1</td>\n",
       "    </tr>\n",
       "    <tr>\n",
       "      <th>3</th>\n",
       "      <td>Belgium</td>\n",
       "      <td>2013</td>\n",
       "      <td>0.0</td>\n",
       "      <td>1</td>\n",
       "    </tr>\n",
       "    <tr>\n",
       "      <th>4</th>\n",
       "      <td>Belgium</td>\n",
       "      <td>2012</td>\n",
       "      <td>35.0</td>\n",
       "      <td>1</td>\n",
       "    </tr>\n",
       "  </tbody>\n",
       "</table>\n",
       "</div>"
      ],
      "text/plain": [
       "   country  year  quantity  category\n",
       "0  Austria  1996       5.0         1\n",
       "1  Austria  1995      17.0         1\n",
       "2  Belgium  2014       0.0         1\n",
       "3  Belgium  2013       0.0         1\n",
       "4  Belgium  2012      35.0         1"
      ]
     },
     "execution_count": 14,
     "metadata": {},
     "output_type": "execute_result"
    }
   ],
   "source": [
    "power = pd.read_csv('power.csv')\n",
    "power.head()"
   ]
  },
  {
   "cell_type": "code",
   "execution_count": 65,
   "metadata": {},
   "outputs": [],
   "source": [
    "query_str = '''(country==\\'Lithuania\\' or  country==\\'Latvia\\' or country==\\'Estonia\\') and (category == 4 and category == 12 or category == 21) and (year >=2005 and year <= 2010) and quantity > 0'''"
   ]
  },
  {
   "cell_type": "code",
   "execution_count": 67,
   "metadata": {},
   "outputs": [
    {
     "data": {
      "text/plain": [
       "234208.0"
      ]
     },
     "execution_count": 67,
     "metadata": {},
     "output_type": "execute_result"
    }
   ],
   "source": [
    "\n",
    "power.query(query_str)['quantity'].sum()"
   ]
  },
  {
   "cell_type": "markdown",
   "metadata": {},
   "source": [
    "### Задание 3"
   ]
  },
  {
   "cell_type": "code",
   "execution_count": 69,
   "metadata": {},
   "outputs": [],
   "source": [
    "page_url ='https://disp.ua.energy/Blocksf/'\n",
    "df = pd.read_html(page_url, attrs = {'class': 'aMain'})"
   ]
  },
  {
   "cell_type": "code",
   "execution_count": 71,
   "metadata": {},
   "outputs": [
    {
     "data": {
      "text/plain": [
       "[   Станція Скл.   Сум       1       2       3       4       5       6      7  \\\n",
       " 0     РАЕС  1+1  1440     NaN   427.0     NaN  1013.0     NaN     NaN    NaN   \n",
       " 1     ЗАЕС    5  5085     NaN  1023.0  1023.0  1013.0  1003.0  1023.0    NaN   \n",
       " 2    ЮУАЕС    2  2056  1028.0  1028.0     NaN     NaN     NaN     NaN    NaN   \n",
       " 3     ХАЕС    1  1010  1010.0     NaN     NaN     NaN     NaN     NaN    NaN   \n",
       " 4    ЛуТЕС    3   415     NaN     NaN     NaN     NaN     NaN     NaN    NaN   \n",
       " 5    СлТЕС  0.5    36     NaN     NaN    36.0     NaN     NaN     NaN    NaN   \n",
       " 6   ВугТЕС  3+0   798     NaN   266.0   268.0   264.0     NaN     NaN    NaN   \n",
       " 7    КуТЕС    7  1150     NaN     NaN   126.0   127.0   192.0   191.0  174.0   \n",
       " 8    КрТЕС    2   421     NaN     NaN   205.0     NaN     NaN     NaN    NaN   \n",
       " 9    ПдТЕС  2+0   216     NaN     NaN     NaN     NaN     NaN     NaN    NaN   \n",
       " 10   ЗаТЕС  2+0   274    42.0     NaN     NaN   232.0     NaN     NaN    NaN   \n",
       " 11   ЗмТЕС  5+0   703     NaN   135.0   135.0   129.0   154.0   150.0    NaN   \n",
       " 12  ХТЕЦ-5  2+1   465   107.0   110.0   248.0     NaN     NaN     NaN    NaN   \n",
       " 13   ТрТЕС  2+0   470   259.0     NaN     NaN   211.0     NaN     NaN    NaN   \n",
       " 14  КТЕЦ-5  2+1   452   100.0   100.0   252.0     NaN     NaN     NaN    NaN   \n",
       " 15  КТЕЦ-6    2   480   249.0   231.0     NaN     NaN     NaN     NaN    NaN   \n",
       " 16  ЛадТЕС    3   654   242.0   206.0   206.0     NaN     NaN     NaN    NaN   \n",
       " 17   БуТЕС    7   864     NaN     NaN     NaN   121.0   110.0     NaN    NaN   \n",
       " 18  ДобТЕС  2+1   312     NaN     NaN     NaN     NaN    74.0    84.0    NaN   \n",
       " \n",
       "         8      9     10     11     12     13     14  15  \n",
       " 0     NaN    NaN    NaN    NaN    NaN    NaN    NaN NaN  \n",
       " 1     NaN    NaN    NaN    NaN    NaN    NaN    NaN NaN  \n",
       " 2     NaN    NaN    NaN    NaN    NaN    NaN    NaN NaN  \n",
       " 3     NaN    NaN    NaN    NaN    NaN    NaN    NaN NaN  \n",
       " 4     NaN    NaN  141.0    NaN    NaN  142.0  132.0 NaN  \n",
       " 5     NaN    NaN    NaN    NaN    NaN    NaN    NaN NaN  \n",
       " 6     NaN    NaN    NaN    NaN    NaN    NaN    NaN NaN  \n",
       " 7   166.0  174.0    NaN    NaN    NaN    NaN    NaN NaN  \n",
       " 8     NaN    NaN  216.0    NaN    NaN    NaN    NaN NaN  \n",
       " 9     NaN  105.0  111.0    NaN    NaN    NaN    NaN NaN  \n",
       " 10    NaN    NaN    NaN    NaN    NaN    NaN    NaN NaN  \n",
       " 11    NaN    NaN    NaN    NaN    NaN    NaN    NaN NaN  \n",
       " 12    NaN    NaN    NaN    NaN    NaN    NaN    NaN NaN  \n",
       " 13    NaN    NaN    NaN    NaN    NaN    NaN    NaN NaN  \n",
       " 14    NaN    NaN    NaN    NaN    NaN    NaN    NaN NaN  \n",
       " 15    NaN    NaN    NaN    NaN    NaN    NaN    NaN NaN  \n",
       " 16    NaN    NaN    NaN    NaN    NaN    NaN    NaN NaN  \n",
       " 17  119.0  137.0  121.0  115.0  141.0    NaN    NaN NaN  \n",
       " 18  154.0    NaN    NaN    NaN    NaN    NaN    NaN NaN  ]"
      ]
     },
     "execution_count": 71,
     "metadata": {},
     "output_type": "execute_result"
    }
   ],
   "source": [
    "# ! Очень интересует вопрос возможно ли с помощью пандоса вытаскивать цвет ячеек в таблице? я парсила эту табличку просто питоном, да это дольше, но там я могу вытащить все цветовые поля и сопоставить им значения из таблицы внизу, может у пандоса есть какие-то гениальные трюки? \n",
    "df"
   ]
  }
 ],
 "metadata": {
  "kernelspec": {
   "display_name": "Python 3",
   "language": "python",
   "name": "python3"
  },
  "language_info": {
   "codemirror_mode": {
    "name": "ipython",
    "version": 3
   },
   "file_extension": ".py",
   "mimetype": "text/x-python",
   "name": "python",
   "nbconvert_exporter": "python",
   "pygments_lexer": "ipython3",
   "version": "3.8.5"
  }
 },
 "nbformat": 4,
 "nbformat_minor": 4
}
