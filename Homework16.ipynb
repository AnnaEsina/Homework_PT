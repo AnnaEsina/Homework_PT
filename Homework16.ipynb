{
 "cells": [
  {
   "cell_type": "code",
   "execution_count": 164,
   "metadata": {},
   "outputs": [
    {
     "name": "stdout",
     "output_type": "stream",
     "text": [
      "Проигрыш: -22437 Средний проигрыш/выигрыш за игру: -0.22437\n",
      "Количество игр, которые принесли прибыль: 10431 Количество попыток: 100000 Вероятность выигрыша: 0.10431\n"
     ]
    }
   ],
   "source": [
    "import numpy as np\n",
    "# np.random.seed(None)\n",
    "trials = 100000    # Количество попыток\n",
    "profit = 0    # Выигрыш\n",
    "profit_list = []\n",
    "for i in range(trials):\n",
    "    profit = -1 # рубль теряем в любом случае\n",
    "    random_numb = np.random.randint(0, 1000)    # Случайное количество очков от 0 до 999\n",
    "    \n",
    "    if random_numb == 777:\n",
    "        profit += 200\n",
    "    elif random_numb == 999:\n",
    "        profit += 100\n",
    "    elif random_numb == 555:\n",
    "        profit += 50    \n",
    "    elif random_numb == 333:\n",
    "        profit += 15    \n",
    "    elif random_numb == 111:\n",
    "        profit += 10  \n",
    "    elif random_numb%100 == 77 and random_numb>99:\n",
    "        profit += 5     \n",
    "    elif random_numb % 10 == 7 and random_numb>99:\n",
    "        profit += 3     \n",
    "    elif random_numb%100 == 0 and random_numb>99:\n",
    "        profit += 2     \n",
    "    elif random_numb%10 == 0 and random_numb>99:\n",
    "        profit += 1    \n",
    "    profit_list.append(profit)\n",
    "\n",
    "successes= sum([1 for x in profit_list if x>0 ])  # посчитаем количество выигрышных игр, когда игрок остатеся в плюсе      \n",
    "p_monte_carlo = successes / trials    # Вероятность из моделирования\n",
    "print('Проигрыш:', sum(profit_list), 'Средний проигрыш/выигрыш за игру:',sum(profit_list)/len(profit_list))\n",
    "print('Количество игр, которые принесли прибыль:', successes, 'Количество попыток:',trials, 'Вероятность выигрыша:',p_monte_carlo)\n"
   ]
  },
  {
   "cell_type": "code",
   "execution_count": null,
   "metadata": {},
   "outputs": [],
   "source": [
    "# игра не выгодна игроку, в среднем за игру он проигрывает -0.22 рубля , а вероятность выигрыша в одной игре - приблизительно 10%"
   ]
  },
  {
   "cell_type": "code",
   "execution_count": 167,
   "metadata": {},
   "outputs": [
    {
     "data": {
      "text/plain": [
       "-0.127"
      ]
     },
     "execution_count": 167,
     "metadata": {},
     "output_type": "execute_result"
    }
   ],
   "source": [
    "# теоретический расчет среднего проигрыша дал чуть более позитивный результат, отличающийся от метода Монте-Карло на 0.1 рубля\n",
    "x_avg = 200*(1/1000)+100*(1/1000)+50*(1/1000)+15*(1/1000)+10*(1/1000)+5*(8/1000)+3*(64/1000)+2*(9/1000)+81/1000 -1*(1-(5/1000+8/1000+64/1000+9/1000+81/1000))\n",
    "x_avg"
   ]
  },
  {
   "cell_type": "code",
   "execution_count": null,
   "metadata": {},
   "outputs": [],
   "source": []
  }
 ],
 "metadata": {
  "kernelspec": {
   "display_name": "Python 3",
   "language": "python",
   "name": "python3"
  },
  "language_info": {
   "codemirror_mode": {
    "name": "ipython",
    "version": 3
   },
   "file_extension": ".py",
   "mimetype": "text/x-python",
   "name": "python",
   "nbconvert_exporter": "python",
   "pygments_lexer": "ipython3",
   "version": "3.8.5"
  }
 },
 "nbformat": 4,
 "nbformat_minor": 4
}
